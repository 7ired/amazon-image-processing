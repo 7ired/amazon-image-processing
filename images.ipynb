{
 "cells": [
  {
   "cell_type": "markdown",
   "metadata": {},
   "source": [
    "# PART 1\n",
    "### DataFrame"
   ]
  },
  {
   "cell_type": "code",
   "execution_count": 191,
   "metadata": {},
   "outputs": [],
   "source": [
    "import pandas as pd\n",
    "import os\n",
    "from PIL import Image\n",
    "import numpy as np"
   ]
  },
  {
   "cell_type": "code",
   "execution_count": 192,
   "metadata": {},
   "outputs": [],
   "source": [
    "images = os.listdir('images')\n",
    "dir = '/Users/erykw/kaggle/amazon/images'\n",
    "image_files = [os.path.join(dir, f) for f in os.listdir(dir)]"
   ]
  },
  {
   "cell_type": "markdown",
   "metadata": {},
   "source": [
    "#### Let's take a brief look of the file name structure."
   ]
  },
  {
   "cell_type": "code",
   "execution_count": 193,
   "metadata": {},
   "outputs": [
    {
     "data": {
      "text/plain": [
       "['stock-photo-adult-and-child-hands-holding-red-heart-heart-health-donation-happy-volunteer-charity-csr-1487364161.jpg',\n",
       " 'stock-photo-closeup-view-of-woman-with-drawn-flowers-on-green-chalkboard-space-for-text-teacher-s-day-1508523470.jpg',\n",
       " 'stock-photo-suicide-prevention-and-childhood-cancer-awareness-yellow-ribbon-for-supporting-people-living-and-1482160559.jpg',\n",
       " 'stock-photo-smart-city-and-abstract-dot-point-connect-with-gradient-line-and-aesthetic-intricate-wave-line-1499306735.jpg',\n",
       " 'stock-photo-young-joyful-casual-family-of-two-kids-and-couple-sitting-on-sofa-and-watching-funny-video-or-1499295359.jpg',\n",
       " 'stock-photo-sky-background-on-sunset-nature-abstract-composition-1484678003.jpg',\n",
       " 'stock-photo-architect-team-having-a-discussion-1380294050.jpg',\n",
       " 'stock-photo-october-breast-cancer-awareness-month-woman-in-pink-t-shirt-with-hand-holding-pink-ribbon-for-1505793707.jpg',\n",
       " 'stock-photo-happy-family-mother-father-children-son-and-daughter-on-nature-on-sunset-1438256546.jpg',\n",
       " 'stock-photo-skeleton-zombie-hands-rising-out-of-a-cemetery-halloween-background-1495866737.jpg',\n",
       " 'stock-photo-close-up-of-two-businessmen-shaking-hands-in-modern-city-with-double-exposure-of-business-people-1452180959.jpg',\n",
       " 'stock-photo-zombie-rising-out-of-a-graveyard-cemetery-in-spooky-dark-night-full-moon-holiday-event-halloween-1492357433.jpg',\n",
       " 'stock-photo-view-of-moon-limb-with-earth-rising-on-the-horizon-footprints-as-an-evidence-of-people-being-there-1454730908.jpg',\n",
       " 'stock-photo-close-up-top-view-of-young-business-people-putting-their-hands-together-stack-of-hands-unity-and-1498583432.jpg',\n",
       " 'stock-photo-nature-shots-for-the-pros-1506854450.jpg',\n",
       " 'stock-photo-hurricane-dorian-in-the-carribean-sea-on-its-way-to-us-mainland-in-august-elements-of-this-1492317566.jpg',\n",
       " 'stock-photo-top-view-of-beautiful-young-woman-sleeping-cozily-on-a-bed-in-his-bedroom-at-night-blue-nightly-1427337869.jpg',\n",
       " 'stock-photo-lipstick-smear-smudge-swatch-isolated-on-white-background-cream-makeup-texture-bright-red-color-1471402472.jpg',\n",
       " 'stock-photo-happy-dussehra-greeting-card-green-leaf-rice-1497972686.jpg',\n",
       " 'stock-photo-nice-attractive-stylish-cheerful-cheery-positive-carefree-guys-ladies-having-fun-hanging-out-best-1436812790.jpg']"
      ]
     },
     "execution_count": 193,
     "metadata": {},
     "output_type": "execute_result"
    }
   ],
   "source": [
    "[x for x in images]"
   ]
  },
  {
   "cell_type": "markdown",
   "metadata": {},
   "source": [
    "#### Let's try extracting the information on an example first."
   ]
  },
  {
   "cell_type": "code",
   "execution_count": 194,
   "metadata": {},
   "outputs": [],
   "source": [
    "ex = images[0]"
   ]
  },
  {
   "cell_type": "code",
   "execution_count": 195,
   "metadata": {},
   "outputs": [
    {
     "name": "stdout",
     "output_type": "stream",
     "text": [
      "stock\n",
      "photo\n"
     ]
    }
   ],
   "source": [
    "f1 = ex.split(\"-\", 2)[:2][0]\n",
    "f2 = ex.split(\"-\", 2)[:2][1]\n",
    "print(f1)\n",
    "print(f2)"
   ]
  },
  {
   "cell_type": "code",
   "execution_count": 196,
   "metadata": {},
   "outputs": [
    {
     "name": "stdout",
     "output_type": "stream",
     "text": [
      "stock-photo\n"
     ]
    }
   ],
   "source": [
    "filename = f1 + '-' + f2\n",
    "print(filename)"
   ]
  },
  {
   "cell_type": "code",
   "execution_count": 197,
   "metadata": {},
   "outputs": [
    {
     "name": "stdout",
     "output_type": "stream",
     "text": [
      "adult-and-child-hands-holding-red-heart-heart-health-donation-happy-volunteer-charity-csr-1487364161.jpg\n"
     ]
    }
   ],
   "source": [
    "desc_ex = ex.split('-', 2)[2]\n",
    "print(desc_ex)"
   ]
  },
  {
   "cell_type": "code",
   "execution_count": 198,
   "metadata": {},
   "outputs": [
    {
     "name": "stdout",
     "output_type": "stream",
     "text": [
      "['adult', 'and', 'child', 'hands', 'holding', 'red', 'heart', 'heart', 'health', 'donation', 'happy', 'volunteer', 'charity', 'csr']\n"
     ]
    }
   ],
   "source": [
    "desc_ex_list = desc_ex.split(\"-\")[:-1]\n",
    "print(desc_ex_list)"
   ]
  },
  {
   "cell_type": "code",
   "execution_count": 199,
   "metadata": {},
   "outputs": [
    {
     "name": "stdout",
     "output_type": "stream",
     "text": [
      "adult and child hands holding red heart heart health donation happy volunteer charity csr\n"
     ]
    }
   ],
   "source": [
    "description_ex = ' '.join(desc_ex_list)\n",
    "print(description_ex)"
   ]
  },
  {
   "cell_type": "code",
   "execution_count": 200,
   "metadata": {},
   "outputs": [
    {
     "name": "stdout",
     "output_type": "stream",
     "text": [
      "1487364161\n"
     ]
    }
   ],
   "source": [
    "image_id_ex = desc_ex.split('-')[-1].split('.')[0]\n",
    "print(image_id_ex)"
   ]
  },
  {
   "cell_type": "code",
   "execution_count": 201,
   "metadata": {},
   "outputs": [
    {
     "name": "stdout",
     "output_type": "stream",
     "text": [
      "File Name: stock-photo\n",
      "Description: adult and child hands holding red heart heart health donation happy volunteer charity csr\n",
      "Image id: 1487364161\n",
      "Full string: stock-photo-adult and child hands holding red heart heart health donation happy volunteer charity csr-1487364161\n"
     ]
    }
   ],
   "source": [
    "print('File Name:', filename)\n",
    "print('Description:', description_ex)\n",
    "print('Image id:', image_id_ex)\n",
    "print(f'Full string: {filename}-{description_ex}-{image_id_ex}')"
   ]
  },
  {
   "cell_type": "markdown",
   "metadata": {},
   "source": [
    "#### Seems like I got what I needed on the example string. Let's iterate over every picture we have.\n",
    "##### While extracting the filename, description and image id, we don't need to iterate over actual pictures, just their names.\n",
    "##### When we get to extracting information about actual pictures (like width, height, average color etc.), we need to iterate over actual files."
   ]
  },
  {
   "cell_type": "code",
   "execution_count": 202,
   "metadata": {},
   "outputs": [],
   "source": [
    "filenames = []\n",
    "descriptions = []\n",
    "image_ids = []\n",
    "\n",
    "for image in images:\n",
    "    f1 = image.split(\"-\", 2)[:2][0]\n",
    "    f2 = image.split(\"-\", 2)[:2][1]\n",
    "    filename = f1 + '-' + f2\n",
    "    filenames.append(filename)\n",
    "    \n",
    "    desc_list = image.split('-', 2)[2].split('-')[:-1]\n",
    "    description = ' '.join(desc_list)\n",
    "    descriptions.append(description)\n",
    "    \n",
    "    image_id = image.split('-')[-1].split('.')[0]\n",
    "    image_ids.append(image_id)"
   ]
  },
  {
   "cell_type": "code",
   "execution_count": 203,
   "metadata": {},
   "outputs": [],
   "source": [
    "image_folder = 'images'\n",
    "widths = []\n",
    "heights = []\n",
    "\n",
    "for image_path in image_files:\n",
    "        im = Image.open(image_path)\n",
    "        w, h = im.size\n",
    "\n",
    "        widths.append(w)\n",
    "        heights.append(h)"
   ]
  },
  {
   "cell_type": "markdown",
   "metadata": {},
   "source": [
    "#### Let's create a DataFrame and store the values we have so far."
   ]
  },
  {
   "cell_type": "code",
   "execution_count": 204,
   "metadata": {},
   "outputs": [],
   "source": [
    "df = pd.DataFrame(\n",
    "    {\n",
    "        'file_name': filenames,\n",
    "        'description': descriptions,\n",
    "        'image_id': image_ids,\n",
    "        'width': widths,\n",
    "        'height': heights\n",
    "    }\n",
    ")"
   ]
  },
  {
   "cell_type": "code",
   "execution_count": 205,
   "metadata": {},
   "outputs": [
    {
     "data": {
      "text/html": [
       "<div>\n",
       "<style scoped>\n",
       "    .dataframe tbody tr th:only-of-type {\n",
       "        vertical-align: middle;\n",
       "    }\n",
       "\n",
       "    .dataframe tbody tr th {\n",
       "        vertical-align: top;\n",
       "    }\n",
       "\n",
       "    .dataframe thead th {\n",
       "        text-align: right;\n",
       "    }\n",
       "</style>\n",
       "<table border=\"1\" class=\"dataframe\">\n",
       "  <thead>\n",
       "    <tr style=\"text-align: right;\">\n",
       "      <th></th>\n",
       "      <th>file_name</th>\n",
       "      <th>description</th>\n",
       "      <th>image_id</th>\n",
       "      <th>width</th>\n",
       "      <th>height</th>\n",
       "    </tr>\n",
       "  </thead>\n",
       "  <tbody>\n",
       "    <tr>\n",
       "      <th>0</th>\n",
       "      <td>stock-photo</td>\n",
       "      <td>adult and child hands holding red heart heart ...</td>\n",
       "      <td>1487364161</td>\n",
       "      <td>1500</td>\n",
       "      <td>1101</td>\n",
       "    </tr>\n",
       "    <tr>\n",
       "      <th>1</th>\n",
       "      <td>stock-photo</td>\n",
       "      <td>closeup view of woman with drawn flowers on gr...</td>\n",
       "      <td>1508523470</td>\n",
       "      <td>1500</td>\n",
       "      <td>1101</td>\n",
       "    </tr>\n",
       "    <tr>\n",
       "      <th>2</th>\n",
       "      <td>stock-photo</td>\n",
       "      <td>suicide prevention and childhood cancer awaren...</td>\n",
       "      <td>1482160559</td>\n",
       "      <td>1500</td>\n",
       "      <td>1101</td>\n",
       "    </tr>\n",
       "    <tr>\n",
       "      <th>3</th>\n",
       "      <td>stock-photo</td>\n",
       "      <td>smart city and abstract dot point connect with...</td>\n",
       "      <td>1499306735</td>\n",
       "      <td>1500</td>\n",
       "      <td>724</td>\n",
       "    </tr>\n",
       "    <tr>\n",
       "      <th>4</th>\n",
       "      <td>stock-photo</td>\n",
       "      <td>young joyful casual family of two kids and cou...</td>\n",
       "      <td>1499295359</td>\n",
       "      <td>1500</td>\n",
       "      <td>1101</td>\n",
       "    </tr>\n",
       "  </tbody>\n",
       "</table>\n",
       "</div>"
      ],
      "text/plain": [
       "     file_name                                        description    image_id  \\\n",
       "0  stock-photo  adult and child hands holding red heart heart ...  1487364161   \n",
       "1  stock-photo  closeup view of woman with drawn flowers on gr...  1508523470   \n",
       "2  stock-photo  suicide prevention and childhood cancer awaren...  1482160559   \n",
       "3  stock-photo  smart city and abstract dot point connect with...  1499306735   \n",
       "4  stock-photo  young joyful casual family of two kids and cou...  1499295359   \n",
       "\n",
       "   width  height  \n",
       "0   1500    1101  \n",
       "1   1500    1101  \n",
       "2   1500    1101  \n",
       "3   1500     724  \n",
       "4   1500    1101  "
      ]
     },
     "execution_count": 205,
     "metadata": {},
     "output_type": "execute_result"
    }
   ],
   "source": [
    "df.head()"
   ]
  },
  {
   "cell_type": "markdown",
   "metadata": {},
   "source": [
    "### Now it gets trickier. We need to work on image files and pixels."
   ]
  },
  {
   "cell_type": "markdown",
   "metadata": {},
   "source": [
    "#### I need to get 'average color'. Let's google that.\n",
    "\"The average colour is the sum of all pixels divided by the number of pixels.\"\n",
    "Tricky part is that we're operating on RGB values, meaning that each pixel has its red, green and blue value. So we need to get a sum of all those."
   ]
  },
  {
   "cell_type": "code",
   "execution_count": 206,
   "metadata": {},
   "outputs": [],
   "source": [
    "def get_average_color(image_path):\n",
    "    im = Image.open(image_path)\n",
    "    pixels = list(im.getdata())\n",
    "\n",
    "    total_r = total_g = total_b = 0\n",
    "    total_pixels = len(pixels)\n",
    "\n",
    "    for pixel in pixels:\n",
    "        r, g, b = pixel\n",
    "        total_r += r\n",
    "        total_g += g\n",
    "        total_b += b\n",
    "        \n",
    "    avg_r = total_r // total_pixels\n",
    "    avg_g = total_g // total_pixels\n",
    "    avg_b = total_b // total_pixels\n",
    "\n",
    "    return (avg_r, avg_g, avg_b)"
   ]
  },
  {
   "cell_type": "code",
   "execution_count": 207,
   "metadata": {},
   "outputs": [],
   "source": [
    "avg_colors = []\n",
    "\n",
    "for image_path in image_files:\n",
    "    avg_colors.append(get_average_color(image_path))"
   ]
  },
  {
   "cell_type": "code",
   "execution_count": 208,
   "metadata": {},
   "outputs": [
    {
     "name": "stdout",
     "output_type": "stream",
     "text": [
      "[(156, 164, 158), (35, 72, 56), (207, 200, 189), (52, 63, 83), (184, 165, 150), (127, 165, 187), (105, 96, 89), (191, 137, 156), (173, 153, 121), (79, 97, 104), (161, 170, 188), (47, 64, 81), (60, 61, 61), (150, 159, 172), (90, 102, 109), (82, 89, 102), (32, 44, 53), (217, 170, 172), (208, 156, 33), (65, 68, 116)]\n"
     ]
    }
   ],
   "source": [
    "print(avg_colors)"
   ]
  },
  {
   "cell_type": "markdown",
   "metadata": {},
   "source": [
    "#### Looks like it worked.\n",
    "I've decided to transform the RGB values to a hex. Just because it's a single value - in my opinion easier to google."
   ]
  },
  {
   "cell_type": "code",
   "execution_count": 209,
   "metadata": {},
   "outputs": [],
   "source": [
    "def rgb_to_hex(rgb):\n",
    "    r, g, b = rgb\n",
    "    return f'#{r:02x}{g:02x}{b:02x}'"
   ]
  },
  {
   "cell_type": "code",
   "execution_count": 210,
   "metadata": {},
   "outputs": [],
   "source": [
    "hexes = []\n",
    "for color in avg_colors:\n",
    "    hexes.append(rgb_to_hex(color))"
   ]
  },
  {
   "cell_type": "code",
   "execution_count": 211,
   "metadata": {},
   "outputs": [
    {
     "name": "stdout",
     "output_type": "stream",
     "text": [
      "['#9ca49e', '#234838', '#cfc8bd', '#343f53', '#b8a596', '#7fa5bb', '#696059', '#bf899c', '#ad9979', '#4f6168', '#a1aabc', '#2f4051', '#3c3d3d', '#969fac', '#5a666d', '#525966', '#202c35', '#d9aaac', '#d09c21', '#414474']\n"
     ]
    }
   ],
   "source": [
    "print(hexes)"
   ]
  },
  {
   "cell_type": "markdown",
   "metadata": {},
   "source": [
    "### Next 3 items are:\n",
    "Median brightness after conversion to shades of gray\n",
    "\n",
    "Horizontal coordinate of the brightest pixel after converting to grayscale\n",
    "\n",
    "Vertical coordinate of brightest pixel after converting to grayscale"
   ]
  },
  {
   "cell_type": "markdown",
   "metadata": {},
   "source": [
    "What is brightness of a grey picture?\n",
    "\n",
    "Grayscale images are represented with only one pixel value instead of three, as it was in RGB. The brightness scale is in range (0, 255). 0 means black, 255 means white. Everything in between is a shade of gray. So we need to find the median pixel value."
   ]
  },
  {
   "cell_type": "code",
   "execution_count": 212,
   "metadata": {},
   "outputs": [],
   "source": [
    "def get_brightness(image_path):\n",
    "    im = Image.open(image_path).convert('L')\n",
    "    pixels = np.array(im)\n",
    "    sorted_pixels = np.sort(pixels.flatten())\n",
    "    median_brightness = np.median(sorted_pixels)\n",
    "    \n",
    "    return median_brightness"
   ]
  },
  {
   "cell_type": "code",
   "execution_count": 213,
   "metadata": {},
   "outputs": [],
   "source": [
    "greyscale_brightness = []\n",
    "for image_path in image_files:\n",
    "    greyscale_brightness.append(get_brightness(image_path))    "
   ]
  },
  {
   "cell_type": "code",
   "execution_count": 214,
   "metadata": {},
   "outputs": [],
   "source": [
    "df['avg_color'] = hexes\n",
    "df['median_greyscale_brightness'] = greyscale_brightness"
   ]
  },
  {
   "cell_type": "code",
   "execution_count": 215,
   "metadata": {},
   "outputs": [
    {
     "data": {
      "text/html": [
       "<div>\n",
       "<style scoped>\n",
       "    .dataframe tbody tr th:only-of-type {\n",
       "        vertical-align: middle;\n",
       "    }\n",
       "\n",
       "    .dataframe tbody tr th {\n",
       "        vertical-align: top;\n",
       "    }\n",
       "\n",
       "    .dataframe thead th {\n",
       "        text-align: right;\n",
       "    }\n",
       "</style>\n",
       "<table border=\"1\" class=\"dataframe\">\n",
       "  <thead>\n",
       "    <tr style=\"text-align: right;\">\n",
       "      <th></th>\n",
       "      <th>file_name</th>\n",
       "      <th>description</th>\n",
       "      <th>image_id</th>\n",
       "      <th>width</th>\n",
       "      <th>height</th>\n",
       "      <th>avg_color</th>\n",
       "      <th>median_greyscale_brightness</th>\n",
       "    </tr>\n",
       "  </thead>\n",
       "  <tbody>\n",
       "    <tr>\n",
       "      <th>0</th>\n",
       "      <td>stock-photo</td>\n",
       "      <td>adult and child hands holding red heart heart ...</td>\n",
       "      <td>1487364161</td>\n",
       "      <td>1500</td>\n",
       "      <td>1101</td>\n",
       "      <td>#9ca49e</td>\n",
       "      <td>194.0</td>\n",
       "    </tr>\n",
       "    <tr>\n",
       "      <th>1</th>\n",
       "      <td>stock-photo</td>\n",
       "      <td>closeup view of woman with drawn flowers on gr...</td>\n",
       "      <td>1508523470</td>\n",
       "      <td>1500</td>\n",
       "      <td>1101</td>\n",
       "      <td>#234838</td>\n",
       "      <td>52.0</td>\n",
       "    </tr>\n",
       "    <tr>\n",
       "      <th>2</th>\n",
       "      <td>stock-photo</td>\n",
       "      <td>suicide prevention and childhood cancer awaren...</td>\n",
       "      <td>1482160559</td>\n",
       "      <td>1500</td>\n",
       "      <td>1101</td>\n",
       "      <td>#cfc8bd</td>\n",
       "      <td>236.0</td>\n",
       "    </tr>\n",
       "    <tr>\n",
       "      <th>3</th>\n",
       "      <td>stock-photo</td>\n",
       "      <td>smart city and abstract dot point connect with...</td>\n",
       "      <td>1499306735</td>\n",
       "      <td>1500</td>\n",
       "      <td>724</td>\n",
       "      <td>#343f53</td>\n",
       "      <td>48.0</td>\n",
       "    </tr>\n",
       "    <tr>\n",
       "      <th>4</th>\n",
       "      <td>stock-photo</td>\n",
       "      <td>young joyful casual family of two kids and cou...</td>\n",
       "      <td>1499295359</td>\n",
       "      <td>1500</td>\n",
       "      <td>1101</td>\n",
       "      <td>#b8a596</td>\n",
       "      <td>186.0</td>\n",
       "    </tr>\n",
       "  </tbody>\n",
       "</table>\n",
       "</div>"
      ],
      "text/plain": [
       "     file_name                                        description    image_id  \\\n",
       "0  stock-photo  adult and child hands holding red heart heart ...  1487364161   \n",
       "1  stock-photo  closeup view of woman with drawn flowers on gr...  1508523470   \n",
       "2  stock-photo  suicide prevention and childhood cancer awaren...  1482160559   \n",
       "3  stock-photo  smart city and abstract dot point connect with...  1499306735   \n",
       "4  stock-photo  young joyful casual family of two kids and cou...  1499295359   \n",
       "\n",
       "   width  height avg_color  median_greyscale_brightness  \n",
       "0   1500    1101   #9ca49e                        194.0  \n",
       "1   1500    1101   #234838                         52.0  \n",
       "2   1500    1101   #cfc8bd                        236.0  \n",
       "3   1500     724   #343f53                         48.0  \n",
       "4   1500    1101   #b8a596                        186.0  "
      ]
     },
     "execution_count": 215,
     "metadata": {},
     "output_type": "execute_result"
    }
   ],
   "source": [
    "df.head()"
   ]
  },
  {
   "cell_type": "markdown",
   "metadata": {},
   "source": [
    "#### Last items is to find the coordinates of the brightest pixels.\n",
    "We will just iterate over width and height of the image to get the brightest pixel."
   ]
  },
  {
   "cell_type": "code",
   "execution_count": 216,
   "metadata": {},
   "outputs": [],
   "source": [
    "def get_brightest_pixel(image_path):\n",
    "    im = Image.open(image_path).convert('L')\n",
    "    width, height = im.size\n",
    "    \n",
    "    brightest_intensity = -1\n",
    "    brightest_pixel = None\n",
    "    \n",
    "    for x in range(width):\n",
    "        for y in range(height):\n",
    "            pixel_value = im.getpixel((x, y))\n",
    "            if pixel_value > brightest_intensity:\n",
    "                brightest_intensity = pixel_value\n",
    "                brightest_pixel = (x, y)\n",
    "            \n",
    "    return brightest_pixel"
   ]
  },
  {
   "cell_type": "code",
   "execution_count": 217,
   "metadata": {},
   "outputs": [],
   "source": [
    "brightest_pixels = []\n",
    "for image_path in image_files:\n",
    "    brightest_pixels.append(get_brightest_pixel(image_path))"
   ]
  },
  {
   "cell_type": "code",
   "execution_count": 218,
   "metadata": {},
   "outputs": [],
   "source": [
    "horizontal_brightest_pixel, vertical_brightest_pixel = zip(*brightest_pixels)"
   ]
  },
  {
   "cell_type": "code",
   "execution_count": 219,
   "metadata": {},
   "outputs": [],
   "source": [
    "df['horizontal_brightest_px'] = horizontal_brightest_pixel\n",
    "df['vertical_brightest_px'] = vertical_brightest_pixel"
   ]
  },
  {
   "cell_type": "code",
   "execution_count": 220,
   "metadata": {},
   "outputs": [
    {
     "data": {
      "text/html": [
       "<div>\n",
       "<style scoped>\n",
       "    .dataframe tbody tr th:only-of-type {\n",
       "        vertical-align: middle;\n",
       "    }\n",
       "\n",
       "    .dataframe tbody tr th {\n",
       "        vertical-align: top;\n",
       "    }\n",
       "\n",
       "    .dataframe thead th {\n",
       "        text-align: right;\n",
       "    }\n",
       "</style>\n",
       "<table border=\"1\" class=\"dataframe\">\n",
       "  <thead>\n",
       "    <tr style=\"text-align: right;\">\n",
       "      <th></th>\n",
       "      <th>file_name</th>\n",
       "      <th>description</th>\n",
       "      <th>image_id</th>\n",
       "      <th>width</th>\n",
       "      <th>height</th>\n",
       "      <th>avg_color</th>\n",
       "      <th>median_greyscale_brightness</th>\n",
       "      <th>horizontal_brightest_px</th>\n",
       "      <th>vertical_brightest_px</th>\n",
       "    </tr>\n",
       "  </thead>\n",
       "  <tbody>\n",
       "    <tr>\n",
       "      <th>0</th>\n",
       "      <td>stock-photo</td>\n",
       "      <td>adult and child hands holding red heart heart ...</td>\n",
       "      <td>1487364161</td>\n",
       "      <td>1500</td>\n",
       "      <td>1101</td>\n",
       "      <td>#9ca49e</td>\n",
       "      <td>194.0</td>\n",
       "      <td>54</td>\n",
       "      <td>1068</td>\n",
       "    </tr>\n",
       "    <tr>\n",
       "      <th>1</th>\n",
       "      <td>stock-photo</td>\n",
       "      <td>closeup view of woman with drawn flowers on gr...</td>\n",
       "      <td>1508523470</td>\n",
       "      <td>1500</td>\n",
       "      <td>1101</td>\n",
       "      <td>#234838</td>\n",
       "      <td>52.0</td>\n",
       "      <td>54</td>\n",
       "      <td>1068</td>\n",
       "    </tr>\n",
       "    <tr>\n",
       "      <th>2</th>\n",
       "      <td>stock-photo</td>\n",
       "      <td>suicide prevention and childhood cancer awaren...</td>\n",
       "      <td>1482160559</td>\n",
       "      <td>1500</td>\n",
       "      <td>1101</td>\n",
       "      <td>#cfc8bd</td>\n",
       "      <td>236.0</td>\n",
       "      <td>0</td>\n",
       "      <td>4</td>\n",
       "    </tr>\n",
       "    <tr>\n",
       "      <th>3</th>\n",
       "      <td>stock-photo</td>\n",
       "      <td>smart city and abstract dot point connect with...</td>\n",
       "      <td>1499306735</td>\n",
       "      <td>1500</td>\n",
       "      <td>724</td>\n",
       "      <td>#343f53</td>\n",
       "      <td>48.0</td>\n",
       "      <td>0</td>\n",
       "      <td>593</td>\n",
       "    </tr>\n",
       "    <tr>\n",
       "      <th>4</th>\n",
       "      <td>stock-photo</td>\n",
       "      <td>young joyful casual family of two kids and cou...</td>\n",
       "      <td>1499295359</td>\n",
       "      <td>1500</td>\n",
       "      <td>1101</td>\n",
       "      <td>#b8a596</td>\n",
       "      <td>186.0</td>\n",
       "      <td>14</td>\n",
       "      <td>170</td>\n",
       "    </tr>\n",
       "  </tbody>\n",
       "</table>\n",
       "</div>"
      ],
      "text/plain": [
       "     file_name                                        description    image_id  \\\n",
       "0  stock-photo  adult and child hands holding red heart heart ...  1487364161   \n",
       "1  stock-photo  closeup view of woman with drawn flowers on gr...  1508523470   \n",
       "2  stock-photo  suicide prevention and childhood cancer awaren...  1482160559   \n",
       "3  stock-photo  smart city and abstract dot point connect with...  1499306735   \n",
       "4  stock-photo  young joyful casual family of two kids and cou...  1499295359   \n",
       "\n",
       "   width  height avg_color  median_greyscale_brightness  \\\n",
       "0   1500    1101   #9ca49e                        194.0   \n",
       "1   1500    1101   #234838                         52.0   \n",
       "2   1500    1101   #cfc8bd                        236.0   \n",
       "3   1500     724   #343f53                         48.0   \n",
       "4   1500    1101   #b8a596                        186.0   \n",
       "\n",
       "   horizontal_brightest_px  vertical_brightest_px  \n",
       "0                       54                   1068  \n",
       "1                       54                   1068  \n",
       "2                        0                      4  \n",
       "3                        0                    593  \n",
       "4                       14                    170  "
      ]
     },
     "execution_count": 220,
     "metadata": {},
     "output_type": "execute_result"
    }
   ],
   "source": [
    "df.head()"
   ]
  },
  {
   "cell_type": "markdown",
   "metadata": {},
   "source": [
    "# PART 2\n",
    "### Aggregation of images"
   ]
  },
  {
   "cell_type": "markdown",
   "metadata": {},
   "source": [
    "The second task is to sort the photos into subfolders. You need to sort the images by median brightness, divide them into bins of count 4, and save the images into subfolders with the naming scheme - [bin number]-images, numbering the bins from 1."
   ]
  },
  {
   "cell_type": "code",
   "execution_count": 221,
   "metadata": {},
   "outputs": [],
   "source": [
    "import shutil"
   ]
  },
  {
   "cell_type": "markdown",
   "metadata": {},
   "source": [
    "#### Sorting the images by median brightness"
   ]
  },
  {
   "cell_type": "code",
   "execution_count": 222,
   "metadata": {},
   "outputs": [],
   "source": [
    "df_sorted = df.sort_values(by=['median_greyscale_brightness'])\n",
    "df_sorted = df_sorted.reset_index().drop(columns=['index'])"
   ]
  },
  {
   "cell_type": "code",
   "execution_count": 223,
   "metadata": {},
   "outputs": [
    {
     "data": {
      "text/html": [
       "<div>\n",
       "<style scoped>\n",
       "    .dataframe tbody tr th:only-of-type {\n",
       "        vertical-align: middle;\n",
       "    }\n",
       "\n",
       "    .dataframe tbody tr th {\n",
       "        vertical-align: top;\n",
       "    }\n",
       "\n",
       "    .dataframe thead th {\n",
       "        text-align: right;\n",
       "    }\n",
       "</style>\n",
       "<table border=\"1\" class=\"dataframe\">\n",
       "  <thead>\n",
       "    <tr style=\"text-align: right;\">\n",
       "      <th></th>\n",
       "      <th>file_name</th>\n",
       "      <th>description</th>\n",
       "      <th>image_id</th>\n",
       "      <th>width</th>\n",
       "      <th>height</th>\n",
       "      <th>avg_color</th>\n",
       "      <th>median_greyscale_brightness</th>\n",
       "      <th>horizontal_brightest_px</th>\n",
       "      <th>vertical_brightest_px</th>\n",
       "    </tr>\n",
       "  </thead>\n",
       "  <tbody>\n",
       "    <tr>\n",
       "      <th>0</th>\n",
       "      <td>stock-photo</td>\n",
       "      <td>top view of beautiful young woman sleeping coz...</td>\n",
       "      <td>1427337869</td>\n",
       "      <td>1500</td>\n",
       "      <td>945</td>\n",
       "      <td>#202c35</td>\n",
       "      <td>35.0</td>\n",
       "      <td>54</td>\n",
       "      <td>912</td>\n",
       "    </tr>\n",
       "    <tr>\n",
       "      <th>1</th>\n",
       "      <td>stock-photo</td>\n",
       "      <td>nice attractive stylish cheerful cheery positi...</td>\n",
       "      <td>1436812790</td>\n",
       "      <td>1500</td>\n",
       "      <td>1101</td>\n",
       "      <td>#414474</td>\n",
       "      <td>46.0</td>\n",
       "      <td>54</td>\n",
       "      <td>1068</td>\n",
       "    </tr>\n",
       "    <tr>\n",
       "      <th>2</th>\n",
       "      <td>stock-photo</td>\n",
       "      <td>view of moon limb with earth rising on the hor...</td>\n",
       "      <td>1454730908</td>\n",
       "      <td>1500</td>\n",
       "      <td>1101</td>\n",
       "      <td>#3c3d3d</td>\n",
       "      <td>46.0</td>\n",
       "      <td>54</td>\n",
       "      <td>1068</td>\n",
       "    </tr>\n",
       "    <tr>\n",
       "      <th>3</th>\n",
       "      <td>stock-photo</td>\n",
       "      <td>zombie rising out of a graveyard cemetery in s...</td>\n",
       "      <td>1492357433</td>\n",
       "      <td>1500</td>\n",
       "      <td>1101</td>\n",
       "      <td>#2f4051</td>\n",
       "      <td>46.0</td>\n",
       "      <td>54</td>\n",
       "      <td>1068</td>\n",
       "    </tr>\n",
       "    <tr>\n",
       "      <th>4</th>\n",
       "      <td>stock-photo</td>\n",
       "      <td>smart city and abstract dot point connect with...</td>\n",
       "      <td>1499306735</td>\n",
       "      <td>1500</td>\n",
       "      <td>724</td>\n",
       "      <td>#343f53</td>\n",
       "      <td>48.0</td>\n",
       "      <td>0</td>\n",
       "      <td>593</td>\n",
       "    </tr>\n",
       "    <tr>\n",
       "      <th>5</th>\n",
       "      <td>stock-photo</td>\n",
       "      <td>closeup view of woman with drawn flowers on gr...</td>\n",
       "      <td>1508523470</td>\n",
       "      <td>1500</td>\n",
       "      <td>1101</td>\n",
       "      <td>#234838</td>\n",
       "      <td>52.0</td>\n",
       "      <td>54</td>\n",
       "      <td>1068</td>\n",
       "    </tr>\n",
       "    <tr>\n",
       "      <th>6</th>\n",
       "      <td>stock-photo</td>\n",
       "      <td>hurricane dorian in the carribean sea on its w...</td>\n",
       "      <td>1492317566</td>\n",
       "      <td>1500</td>\n",
       "      <td>1101</td>\n",
       "      <td>#525966</td>\n",
       "      <td>61.0</td>\n",
       "      <td>0</td>\n",
       "      <td>778</td>\n",
       "    </tr>\n",
       "    <tr>\n",
       "      <th>7</th>\n",
       "      <td>stock-photo</td>\n",
       "      <td>nature shots for the pros</td>\n",
       "      <td>1506854450</td>\n",
       "      <td>1500</td>\n",
       "      <td>1101</td>\n",
       "      <td>#5a666d</td>\n",
       "      <td>77.0</td>\n",
       "      <td>54</td>\n",
       "      <td>1068</td>\n",
       "    </tr>\n",
       "    <tr>\n",
       "      <th>8</th>\n",
       "      <td>stock-photo</td>\n",
       "      <td>architect team having a discussion</td>\n",
       "      <td>1380294050</td>\n",
       "      <td>1500</td>\n",
       "      <td>945</td>\n",
       "      <td>#696059</td>\n",
       "      <td>77.0</td>\n",
       "      <td>54</td>\n",
       "      <td>912</td>\n",
       "    </tr>\n",
       "    <tr>\n",
       "      <th>9</th>\n",
       "      <td>stock-photo</td>\n",
       "      <td>skeleton zombie hands rising out of a cemetery...</td>\n",
       "      <td>1495866737</td>\n",
       "      <td>1500</td>\n",
       "      <td>790</td>\n",
       "      <td>#4f6168</td>\n",
       "      <td>86.0</td>\n",
       "      <td>54</td>\n",
       "      <td>757</td>\n",
       "    </tr>\n",
       "    <tr>\n",
       "      <th>10</th>\n",
       "      <td>stock-photo</td>\n",
       "      <td>happy family mother father children son and da...</td>\n",
       "      <td>1438256546</td>\n",
       "      <td>1500</td>\n",
       "      <td>1024</td>\n",
       "      <td>#ad9979</td>\n",
       "      <td>161.0</td>\n",
       "      <td>33</td>\n",
       "      <td>603</td>\n",
       "    </tr>\n",
       "    <tr>\n",
       "      <th>11</th>\n",
       "      <td>stock-photo</td>\n",
       "      <td>sky background on sunset nature abstract compo...</td>\n",
       "      <td>1484678003</td>\n",
       "      <td>1500</td>\n",
       "      <td>1080</td>\n",
       "      <td>#7fa5bb</td>\n",
       "      <td>161.0</td>\n",
       "      <td>54</td>\n",
       "      <td>1047</td>\n",
       "    </tr>\n",
       "    <tr>\n",
       "      <th>12</th>\n",
       "      <td>stock-photo</td>\n",
       "      <td>october breast cancer awareness month woman in...</td>\n",
       "      <td>1505793707</td>\n",
       "      <td>1500</td>\n",
       "      <td>760</td>\n",
       "      <td>#bf899c</td>\n",
       "      <td>164.0</td>\n",
       "      <td>54</td>\n",
       "      <td>727</td>\n",
       "    </tr>\n",
       "    <tr>\n",
       "      <th>13</th>\n",
       "      <td>stock-photo</td>\n",
       "      <td>happy dussehra greeting card green leaf rice</td>\n",
       "      <td>1497972686</td>\n",
       "      <td>1500</td>\n",
       "      <td>1101</td>\n",
       "      <td>#d09c21</td>\n",
       "      <td>176.0</td>\n",
       "      <td>54</td>\n",
       "      <td>1068</td>\n",
       "    </tr>\n",
       "    <tr>\n",
       "      <th>14</th>\n",
       "      <td>stock-photo</td>\n",
       "      <td>close up top view of young business people put...</td>\n",
       "      <td>1498583432</td>\n",
       "      <td>1500</td>\n",
       "      <td>940</td>\n",
       "      <td>#969fac</td>\n",
       "      <td>184.0</td>\n",
       "      <td>54</td>\n",
       "      <td>907</td>\n",
       "    </tr>\n",
       "    <tr>\n",
       "      <th>15</th>\n",
       "      <td>stock-photo</td>\n",
       "      <td>young joyful casual family of two kids and cou...</td>\n",
       "      <td>1499295359</td>\n",
       "      <td>1500</td>\n",
       "      <td>1101</td>\n",
       "      <td>#b8a596</td>\n",
       "      <td>186.0</td>\n",
       "      <td>14</td>\n",
       "      <td>170</td>\n",
       "    </tr>\n",
       "    <tr>\n",
       "      <th>16</th>\n",
       "      <td>stock-photo</td>\n",
       "      <td>close up of two businessmen shaking hands in m...</td>\n",
       "      <td>1452180959</td>\n",
       "      <td>1500</td>\n",
       "      <td>1101</td>\n",
       "      <td>#a1aabc</td>\n",
       "      <td>190.0</td>\n",
       "      <td>54</td>\n",
       "      <td>1068</td>\n",
       "    </tr>\n",
       "    <tr>\n",
       "      <th>17</th>\n",
       "      <td>stock-photo</td>\n",
       "      <td>adult and child hands holding red heart heart ...</td>\n",
       "      <td>1487364161</td>\n",
       "      <td>1500</td>\n",
       "      <td>1101</td>\n",
       "      <td>#9ca49e</td>\n",
       "      <td>194.0</td>\n",
       "      <td>54</td>\n",
       "      <td>1068</td>\n",
       "    </tr>\n",
       "    <tr>\n",
       "      <th>18</th>\n",
       "      <td>stock-photo</td>\n",
       "      <td>suicide prevention and childhood cancer awaren...</td>\n",
       "      <td>1482160559</td>\n",
       "      <td>1500</td>\n",
       "      <td>1101</td>\n",
       "      <td>#cfc8bd</td>\n",
       "      <td>236.0</td>\n",
       "      <td>0</td>\n",
       "      <td>4</td>\n",
       "    </tr>\n",
       "    <tr>\n",
       "      <th>19</th>\n",
       "      <td>stock-photo</td>\n",
       "      <td>lipstick smear smudge swatch isolated on white...</td>\n",
       "      <td>1471402472</td>\n",
       "      <td>1500</td>\n",
       "      <td>915</td>\n",
       "      <td>#d9aaac</td>\n",
       "      <td>255.0</td>\n",
       "      <td>0</td>\n",
       "      <td>0</td>\n",
       "    </tr>\n",
       "  </tbody>\n",
       "</table>\n",
       "</div>"
      ],
      "text/plain": [
       "      file_name                                        description  \\\n",
       "0   stock-photo  top view of beautiful young woman sleeping coz...   \n",
       "1   stock-photo  nice attractive stylish cheerful cheery positi...   \n",
       "2   stock-photo  view of moon limb with earth rising on the hor...   \n",
       "3   stock-photo  zombie rising out of a graveyard cemetery in s...   \n",
       "4   stock-photo  smart city and abstract dot point connect with...   \n",
       "5   stock-photo  closeup view of woman with drawn flowers on gr...   \n",
       "6   stock-photo  hurricane dorian in the carribean sea on its w...   \n",
       "7   stock-photo                          nature shots for the pros   \n",
       "8   stock-photo                 architect team having a discussion   \n",
       "9   stock-photo  skeleton zombie hands rising out of a cemetery...   \n",
       "10  stock-photo  happy family mother father children son and da...   \n",
       "11  stock-photo  sky background on sunset nature abstract compo...   \n",
       "12  stock-photo  october breast cancer awareness month woman in...   \n",
       "13  stock-photo       happy dussehra greeting card green leaf rice   \n",
       "14  stock-photo  close up top view of young business people put...   \n",
       "15  stock-photo  young joyful casual family of two kids and cou...   \n",
       "16  stock-photo  close up of two businessmen shaking hands in m...   \n",
       "17  stock-photo  adult and child hands holding red heart heart ...   \n",
       "18  stock-photo  suicide prevention and childhood cancer awaren...   \n",
       "19  stock-photo  lipstick smear smudge swatch isolated on white...   \n",
       "\n",
       "      image_id  width  height avg_color  median_greyscale_brightness  \\\n",
       "0   1427337869   1500     945   #202c35                         35.0   \n",
       "1   1436812790   1500    1101   #414474                         46.0   \n",
       "2   1454730908   1500    1101   #3c3d3d                         46.0   \n",
       "3   1492357433   1500    1101   #2f4051                         46.0   \n",
       "4   1499306735   1500     724   #343f53                         48.0   \n",
       "5   1508523470   1500    1101   #234838                         52.0   \n",
       "6   1492317566   1500    1101   #525966                         61.0   \n",
       "7   1506854450   1500    1101   #5a666d                         77.0   \n",
       "8   1380294050   1500     945   #696059                         77.0   \n",
       "9   1495866737   1500     790   #4f6168                         86.0   \n",
       "10  1438256546   1500    1024   #ad9979                        161.0   \n",
       "11  1484678003   1500    1080   #7fa5bb                        161.0   \n",
       "12  1505793707   1500     760   #bf899c                        164.0   \n",
       "13  1497972686   1500    1101   #d09c21                        176.0   \n",
       "14  1498583432   1500     940   #969fac                        184.0   \n",
       "15  1499295359   1500    1101   #b8a596                        186.0   \n",
       "16  1452180959   1500    1101   #a1aabc                        190.0   \n",
       "17  1487364161   1500    1101   #9ca49e                        194.0   \n",
       "18  1482160559   1500    1101   #cfc8bd                        236.0   \n",
       "19  1471402472   1500     915   #d9aaac                        255.0   \n",
       "\n",
       "    horizontal_brightest_px  vertical_brightest_px  \n",
       "0                        54                    912  \n",
       "1                        54                   1068  \n",
       "2                        54                   1068  \n",
       "3                        54                   1068  \n",
       "4                         0                    593  \n",
       "5                        54                   1068  \n",
       "6                         0                    778  \n",
       "7                        54                   1068  \n",
       "8                        54                    912  \n",
       "9                        54                    757  \n",
       "10                       33                    603  \n",
       "11                       54                   1047  \n",
       "12                       54                    727  \n",
       "13                       54                   1068  \n",
       "14                       54                    907  \n",
       "15                       14                    170  \n",
       "16                       54                   1068  \n",
       "17                       54                   1068  \n",
       "18                        0                      4  \n",
       "19                        0                      0  "
      ]
     },
     "execution_count": 223,
     "metadata": {},
     "output_type": "execute_result"
    }
   ],
   "source": [
    "df_sorted"
   ]
  },
  {
   "cell_type": "markdown",
   "metadata": {},
   "source": [
    "#### Creating 5 directories for each bin"
   ]
  },
  {
   "cell_type": "code",
   "execution_count": 224,
   "metadata": {},
   "outputs": [
    {
     "name": "stdout",
     "output_type": "stream",
     "text": [
      "1 created\n",
      "2 created\n",
      "3 created\n",
      "4 created\n",
      "5 created\n"
     ]
    }
   ],
   "source": [
    "for bin in range(1, 6):\n",
    "    path = f'{bin}-images'\n",
    "    os.mkdir(path)\n",
    "    print(bin, 'created')"
   ]
  },
  {
   "cell_type": "markdown",
   "metadata": {},
   "source": [
    "#### Now we need think about the logic to move correct files to each dir.\n",
    "I'm thinking that accessing the image_id, and then comparing it to the image_path string is gonna work.\n",
    "\n",
    "We need 4 images per bin. Let's try that without moving the files first."
   ]
  },
  {
   "cell_type": "code",
   "execution_count": 225,
   "metadata": {},
   "outputs": [
    {
     "data": {
      "text/plain": [
       "0    1427337869\n",
       "1    1436812790\n",
       "2    1454730908\n",
       "3    1492357433\n",
       "Name: image_id, dtype: object"
      ]
     },
     "execution_count": 225,
     "metadata": {},
     "output_type": "execute_result"
    }
   ],
   "source": [
    "df_sorted['image_id'].loc[:3]"
   ]
  },
  {
   "cell_type": "code",
   "execution_count": 226,
   "metadata": {},
   "outputs": [
    {
     "name": "stdout",
     "output_type": "stream",
     "text": [
      "/Users/erykw/kaggle/amazon/images/stock-photo-zombie-rising-out-of-a-graveyard-cemetery-in-spooky-dark-night-full-moon-holiday-event-halloween-1492357433.jpg\n",
      "/Users/erykw/kaggle/amazon/images/stock-photo-view-of-moon-limb-with-earth-rising-on-the-horizon-footprints-as-an-evidence-of-people-being-there-1454730908.jpg\n",
      "/Users/erykw/kaggle/amazon/images/stock-photo-top-view-of-beautiful-young-woman-sleeping-cozily-on-a-bed-in-his-bedroom-at-night-blue-nightly-1427337869.jpg\n",
      "/Users/erykw/kaggle/amazon/images/stock-photo-nice-attractive-stylish-cheerful-cheery-positive-carefree-guys-ladies-having-fun-hanging-out-best-1436812790.jpg\n"
     ]
    }
   ],
   "source": [
    "for image_path in image_files:\n",
    "    for line in df_sorted['image_id'].loc[:3]:\n",
    "        if line in image_path:\n",
    "            print(image_path)"
   ]
  },
  {
   "cell_type": "markdown",
   "metadata": {},
   "source": [
    "#### Okay, this will do.\n",
    "Now, let's create the directories."
   ]
  },
  {
   "cell_type": "code",
   "execution_count": 227,
   "metadata": {},
   "outputs": [
    {
     "name": "stdout",
     "output_type": "stream",
     "text": [
      "/Users/erykw/kaggle/amazon/1-images\n",
      "/Users/erykw/kaggle/amazon/2-images\n",
      "/Users/erykw/kaggle/amazon/3-images\n",
      "/Users/erykw/kaggle/amazon/4-images\n",
      "/Users/erykw/kaggle/amazon/5-images\n"
     ]
    }
   ],
   "source": [
    "for i in range(5):\n",
    "    print(f'{os.getcwd()}/{i+1}-images')"
   ]
  },
  {
   "cell_type": "markdown",
   "metadata": {},
   "source": [
    "#### Last step is to come up with how to move the files. Let's try using the .loc method of the dataframe."
   ]
  },
  {
   "cell_type": "code",
   "execution_count": 228,
   "metadata": {},
   "outputs": [],
   "source": [
    "for i in range(5):\n",
    "    start_index = i * 4\n",
    "    end_index = min(start_index + 3, len(df_sorted))\n",
    "    \n",
    "    for image_path in image_files:\n",
    "        for line in df_sorted['image_id'].loc[start_index:end_index]:\n",
    "            if line in image_path:\n",
    "                shutil.copy2(image_path, f'{os.getcwd()}/{i+1}-images')"
   ]
  },
  {
   "cell_type": "markdown",
   "metadata": {},
   "source": [
    "#### Looks like it worked! I compared the files visually with the df_sorted and they're in correct bins."
   ]
  },
  {
   "cell_type": "markdown",
   "metadata": {},
   "source": [
    "#### !!! I could have just manually created 5 separate statements writing [:3], [4:7], [8:11], [12:15], [16:19], but if there were more images to move, then it would've been a really tedious job."
   ]
  },
  {
   "cell_type": "code",
   "execution_count": 229,
   "metadata": {},
   "outputs": [
    {
     "name": "stdout",
     "output_type": "stream",
     "text": [
      "\u001b[01;34m.\u001b[0m\n",
      "├── \u001b[01;34m1-images\u001b[0m\n",
      "│   ├── \u001b[01;35mstock-photo-nice-attractive-stylish-cheerful-cheery-positive-carefree-guys-ladies-having-fun-hanging-out-best-1436812790.jpg\u001b[0m\n",
      "│   ├── \u001b[01;35mstock-photo-top-view-of-beautiful-young-woman-sleeping-cozily-on-a-bed-in-his-bedroom-at-night-blue-nightly-1427337869.jpg\u001b[0m\n",
      "│   ├── \u001b[01;35mstock-photo-view-of-moon-limb-with-earth-rising-on-the-horizon-footprints-as-an-evidence-of-people-being-there-1454730908.jpg\u001b[0m\n",
      "│   └── \u001b[01;35mstock-photo-zombie-rising-out-of-a-graveyard-cemetery-in-spooky-dark-night-full-moon-holiday-event-halloween-1492357433.jpg\u001b[0m\n",
      "├── \u001b[01;34m2-images\u001b[0m\n",
      "│   ├── \u001b[01;35mstock-photo-closeup-view-of-woman-with-drawn-flowers-on-green-chalkboard-space-for-text-teacher-s-day-1508523470.jpg\u001b[0m\n",
      "│   ├── \u001b[01;35mstock-photo-hurricane-dorian-in-the-carribean-sea-on-its-way-to-us-mainland-in-august-elements-of-this-1492317566.jpg\u001b[0m\n",
      "│   ├── \u001b[01;35mstock-photo-nature-shots-for-the-pros-1506854450.jpg\u001b[0m\n",
      "│   └── \u001b[01;35mstock-photo-smart-city-and-abstract-dot-point-connect-with-gradient-line-and-aesthetic-intricate-wave-line-1499306735.jpg\u001b[0m\n",
      "├── \u001b[01;34m3-images\u001b[0m\n",
      "│   ├── \u001b[01;35mstock-photo-architect-team-having-a-discussion-1380294050.jpg\u001b[0m\n",
      "│   ├── \u001b[01;35mstock-photo-happy-family-mother-father-children-son-and-daughter-on-nature-on-sunset-1438256546.jpg\u001b[0m\n",
      "│   ├── \u001b[01;35mstock-photo-skeleton-zombie-hands-rising-out-of-a-cemetery-halloween-background-1495866737.jpg\u001b[0m\n",
      "│   └── \u001b[01;35mstock-photo-sky-background-on-sunset-nature-abstract-composition-1484678003.jpg\u001b[0m\n",
      "├── \u001b[01;34m4-images\u001b[0m\n",
      "│   ├── \u001b[01;35mstock-photo-close-up-top-view-of-young-business-people-putting-their-hands-together-stack-of-hands-unity-and-1498583432.jpg\u001b[0m\n",
      "│   ├── \u001b[01;35mstock-photo-happy-dussehra-greeting-card-green-leaf-rice-1497972686.jpg\u001b[0m\n",
      "│   ├── \u001b[01;35mstock-photo-october-breast-cancer-awareness-month-woman-in-pink-t-shirt-with-hand-holding-pink-ribbon-for-1505793707.jpg\u001b[0m\n",
      "│   └── \u001b[01;35mstock-photo-young-joyful-casual-family-of-two-kids-and-couple-sitting-on-sofa-and-watching-funny-video-or-1499295359.jpg\u001b[0m\n",
      "├── \u001b[01;34m5-images\u001b[0m\n",
      "│   ├── \u001b[01;35mstock-photo-adult-and-child-hands-holding-red-heart-heart-health-donation-happy-volunteer-charity-csr-1487364161.jpg\u001b[0m\n",
      "│   ├── \u001b[01;35mstock-photo-close-up-of-two-businessmen-shaking-hands-in-modern-city-with-double-exposure-of-business-people-1452180959.jpg\u001b[0m\n",
      "│   ├── \u001b[01;35mstock-photo-lipstick-smear-smudge-swatch-isolated-on-white-background-cream-makeup-texture-bright-red-color-1471402472.jpg\u001b[0m\n",
      "│   └── \u001b[01;35mstock-photo-suicide-prevention-and-childhood-cancer-awareness-yellow-ribbon-for-supporting-people-living-and-1482160559.jpg\u001b[0m\n",
      "├── \u001b[01;34mimages\u001b[0m\n",
      "│   ├── \u001b[01;35mstock-photo-adult-and-child-hands-holding-red-heart-heart-health-donation-happy-volunteer-charity-csr-1487364161.jpg\u001b[0m\n",
      "│   ├── \u001b[01;35mstock-photo-architect-team-having-a-discussion-1380294050.jpg\u001b[0m\n",
      "│   ├── \u001b[01;35mstock-photo-close-up-of-two-businessmen-shaking-hands-in-modern-city-with-double-exposure-of-business-people-1452180959.jpg\u001b[0m\n",
      "│   ├── \u001b[01;35mstock-photo-close-up-top-view-of-young-business-people-putting-their-hands-together-stack-of-hands-unity-and-1498583432.jpg\u001b[0m\n",
      "│   ├── \u001b[01;35mstock-photo-closeup-view-of-woman-with-drawn-flowers-on-green-chalkboard-space-for-text-teacher-s-day-1508523470.jpg\u001b[0m\n",
      "│   ├── \u001b[01;35mstock-photo-happy-dussehra-greeting-card-green-leaf-rice-1497972686.jpg\u001b[0m\n",
      "│   ├── \u001b[01;35mstock-photo-happy-family-mother-father-children-son-and-daughter-on-nature-on-sunset-1438256546.jpg\u001b[0m\n",
      "│   ├── \u001b[01;35mstock-photo-hurricane-dorian-in-the-carribean-sea-on-its-way-to-us-mainland-in-august-elements-of-this-1492317566.jpg\u001b[0m\n",
      "│   ├── \u001b[01;35mstock-photo-lipstick-smear-smudge-swatch-isolated-on-white-background-cream-makeup-texture-bright-red-color-1471402472.jpg\u001b[0m\n",
      "│   ├── \u001b[01;35mstock-photo-nature-shots-for-the-pros-1506854450.jpg\u001b[0m\n",
      "│   ├── \u001b[01;35mstock-photo-nice-attractive-stylish-cheerful-cheery-positive-carefree-guys-ladies-having-fun-hanging-out-best-1436812790.jpg\u001b[0m\n",
      "│   ├── \u001b[01;35mstock-photo-october-breast-cancer-awareness-month-woman-in-pink-t-shirt-with-hand-holding-pink-ribbon-for-1505793707.jpg\u001b[0m\n",
      "│   ├── \u001b[01;35mstock-photo-skeleton-zombie-hands-rising-out-of-a-cemetery-halloween-background-1495866737.jpg\u001b[0m\n",
      "│   ├── \u001b[01;35mstock-photo-sky-background-on-sunset-nature-abstract-composition-1484678003.jpg\u001b[0m\n",
      "│   ├── \u001b[01;35mstock-photo-smart-city-and-abstract-dot-point-connect-with-gradient-line-and-aesthetic-intricate-wave-line-1499306735.jpg\u001b[0m\n",
      "│   ├── \u001b[01;35mstock-photo-suicide-prevention-and-childhood-cancer-awareness-yellow-ribbon-for-supporting-people-living-and-1482160559.jpg\u001b[0m\n",
      "│   ├── \u001b[01;35mstock-photo-top-view-of-beautiful-young-woman-sleeping-cozily-on-a-bed-in-his-bedroom-at-night-blue-nightly-1427337869.jpg\u001b[0m\n",
      "│   ├── \u001b[01;35mstock-photo-view-of-moon-limb-with-earth-rising-on-the-horizon-footprints-as-an-evidence-of-people-being-there-1454730908.jpg\u001b[0m\n",
      "│   ├── \u001b[01;35mstock-photo-young-joyful-casual-family-of-two-kids-and-couple-sitting-on-sofa-and-watching-funny-video-or-1499295359.jpg\u001b[0m\n",
      "│   └── \u001b[01;35mstock-photo-zombie-rising-out-of-a-graveyard-cemetery-in-spooky-dark-night-full-moon-holiday-event-halloween-1492357433.jpg\u001b[0m\n",
      "└── \u001b[00mimages.ipynb\u001b[0m\n",
      "\n",
      "7 directories, 41 files\n"
     ]
    }
   ],
   "source": [
    "%%sh\n",
    "tree"
   ]
  }
 ],
 "metadata": {
  "kernelspec": {
   "display_name": ".venv",
   "language": "python",
   "name": "python3"
  },
  "language_info": {
   "codemirror_mode": {
    "name": "ipython",
    "version": 3
   },
   "file_extension": ".py",
   "mimetype": "text/x-python",
   "name": "python",
   "nbconvert_exporter": "python",
   "pygments_lexer": "ipython3",
   "version": "3.11.6"
  }
 },
 "nbformat": 4,
 "nbformat_minor": 2
}
